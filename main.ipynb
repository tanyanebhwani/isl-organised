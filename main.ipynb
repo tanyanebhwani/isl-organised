{
 "cells": [
  {
   "cell_type": "code",
   "execution_count": 10,
   "id": "b4e30051-043a-489c-ab66-113b6bef6927",
   "metadata": {},
   "outputs": [
    {
     "name": "stdout",
     "output_type": "stream",
     "text": [
      "['.ipynb_checkpoints', 'dataset_time.zip', 'hand_skeleton', 'hand_skeleton.zip', 'hand_skeleton_images', 'hand_skeleton_images.zip']\n",
      "Extraction complete!\n"
     ]
    }
   ],
   "source": [
    "import zipfile\n",
    "import os\n",
    "# Path to the ZIP file\n",
    "zip_path = \"data/dataset_time.zip\"\n",
    "print(os.listdir(\"data\"))\n",
    "# Directory to extract files\n",
    "extract_to = \"data/\"\n",
    "\n",
    "# Open and extract\n",
    "with zipfile.ZipFile(zip_path, 'r') as zip_ref:\n",
    "    zip_ref.extractall(extract_to)\n",
    "\n",
    "print(\"Extraction complete!\")\n"
   ]
  },
  {
   "cell_type": "code",
   "execution_count": 19,
   "id": "375ddc2c-e96a-4b3c-b101-9cabb326bf66",
   "metadata": {},
   "outputs": [
    {
     "name": "stdout",
     "output_type": "stream",
     "text": [
      "Class .ipynb_checkpoints done\n",
      "data\\Days_and_Time\\Afternoon\\MVI_4655.MOV\n",
      "data\\Days_and_Time\\Afternoon\\MVI_4656.MOV\n",
      "data\\Days_and_Time\\Afternoon\\MVI_4657.MOV\n",
      "data\\Days_and_Time\\Afternoon\\MVI_4658.MOV\n",
      "data\\Days_and_Time\\Afternoon\\MVI_5063.MOV\n",
      "data\\Days_and_Time\\Afternoon\\MVI_5064.MOV\n",
      "data\\Days_and_Time\\Afternoon\\MVI_5065.MOV\n",
      "data\\Days_and_Time\\Afternoon\\MVI_5511.MOV\n",
      "data\\Days_and_Time\\Afternoon\\MVI_5512.MOV\n",
      "data\\Days_and_Time\\Afternoon\\MVI_5513.MOV\n",
      "data\\Days_and_Time\\Afternoon\\MVI_5514.MOV\n",
      "Class Afternoon done\n",
      "data\\Days_and_Time\\Evening\\MVI_4659.MOV\n",
      "data\\Days_and_Time\\Evening\\MVI_4660.MOV\n",
      "data\\Days_and_Time\\Evening\\MVI_4661.MOV\n",
      "data\\Days_and_Time\\Evening\\MVI_4662.MOV\n",
      "data\\Days_and_Time\\Evening\\MVI_5070.MOV\n",
      "data\\Days_and_Time\\Evening\\MVI_5071.MOV\n",
      "data\\Days_and_Time\\Evening\\MVI_5072.MOV\n",
      "data\\Days_and_Time\\Evening\\MVI_5515.MOV\n",
      "data\\Days_and_Time\\Evening\\MVI_5517.MOV\n",
      "data\\Days_and_Time\\Evening\\MVI_5518.MOV\n",
      "data\\Days_and_Time\\Evening\\MVI_5519.MOV\n",
      "Class Evening done\n",
      "data\\Days_and_Time\\Morning\\MVI_4651.MOV\n",
      "data\\Days_and_Time\\Morning\\MVI_4652.MOV\n",
      "data\\Days_and_Time\\Morning\\MVI_4653.MOV\n",
      "data\\Days_and_Time\\Morning\\MVI_4654.MOV\n",
      "data\\Days_and_Time\\Morning\\MVI_5060.MOV\n",
      "data\\Days_and_Time\\Morning\\MVI_5061.MOV\n",
      "data\\Days_and_Time\\Morning\\MVI_5062.MOV\n",
      "data\\Days_and_Time\\Morning\\MVI_5507.MOV\n",
      "data\\Days_and_Time\\Morning\\MVI_5508.MOV\n",
      "data\\Days_and_Time\\Morning\\MVI_5509.MOV\n",
      "data\\Days_and_Time\\Morning\\MVI_5510.MOV\n",
      "Class Morning done\n",
      "data\\Days_and_Time\\Night\\MVI_4663.MOV\n",
      "data\\Days_and_Time\\Night\\MVI_4664.MOV\n",
      "data\\Days_and_Time\\Night\\MVI_4665.MOV\n",
      "data\\Days_and_Time\\Night\\MVI_4666.MOV\n",
      "data\\Days_and_Time\\Night\\MVI_5073.MOV\n",
      "data\\Days_and_Time\\Night\\MVI_5074.MOV\n",
      "data\\Days_and_Time\\Night\\MVI_5076.MOV\n",
      "data\\Days_and_Time\\Night\\MVI_5520.MOV\n",
      "data\\Days_and_Time\\Night\\MVI_5521.MOV\n",
      "data\\Days_and_Time\\Night\\MVI_5522.MOV\n",
      "data\\Days_and_Time\\Night\\MVI_5523.MOV\n",
      "Class Night done\n",
      "✅ Holistic video created successfully!\n"
     ]
    }
   ],
   "source": [
    "## Mediapipe Code(To be called once only)\n",
    "import importlib\n",
    "\n",
    "import sys\n",
    "sys.path.append('feature_extraction')\n",
    "sys.path.append(\"mediapipe\")\n",
    "import mp\n",
    "importlib.reload(mp)\n",
    "mp.use_mediapipe()"
   ]
  },
  {
   "cell_type": "code",
   "execution_count": 31,
   "id": "479f1344-70fa-464e-a8fe-2fdad15a965b",
   "metadata": {},
   "outputs": [
    {
     "name": "stdout",
     "output_type": "stream",
     "text": [
      "Testing...\n",
      "Afternoon\n",
      "heloo\n",
      "heloo\n",
      "heloo\n",
      "heloo\n",
      "heloo\n",
      "heloo\n",
      "heloo\n",
      "heloo\n",
      "heloo\n",
      "heloo\n",
      "heloo\n",
      "Evening\n",
      "heloo\n",
      "heloo\n",
      "heloo\n",
      "heloo\n",
      "heloo\n",
      "heloo\n",
      "heloo\n",
      "heloo\n",
      "heloo\n",
      "heloo\n",
      "heloo\n",
      "Morning\n",
      "heloo\n",
      "heloo\n",
      "heloo\n",
      "heloo\n",
      "heloo\n",
      "heloo\n",
      "heloo\n",
      "heloo\n",
      "heloo\n",
      "heloo\n",
      "heloo\n",
      "Night\n",
      "heloo\n",
      "heloo\n",
      "heloo\n",
      "heloo\n",
      "heloo\n",
      "heloo\n",
      "heloo\n",
      "heloo\n",
      "heloo\n",
      "heloo\n",
      "heloo\n",
      "(44, 30, 224, 224, 3)\n"
     ]
    }
   ],
   "source": [
    "## Feature Extraction\n",
    "print(\"Testing...\", flush=True)\n",
    "import feature_extraction as fe\n",
    "importlib.reload(fe)\n",
    "fe.combine_features()"
   ]
  },
  {
   "cell_type": "code",
   "execution_count": 65,
   "id": "af52d2e8-5b0a-4457-b444-aad29a654e7e",
   "metadata": {},
   "outputs": [
    {
     "name": "stdout",
     "output_type": "stream",
     "text": [
      "['Afternoon' 'Afternoon' 'Afternoon' 'Afternoon' 'Afternoon' 'Afternoon'\n",
      " 'Afternoon' 'Afternoon' 'Afternoon' 'Afternoon' 'Afternoon' 'Evening'\n",
      " 'Evening' 'Evening' 'Evening' 'Evening' 'Evening' 'Evening' 'Evening'\n",
      " 'Evening' 'Evening' 'Evening' 'Morning' 'Morning' 'Morning' 'Morning'\n",
      " 'Morning' 'Morning' 'Morning' 'Morning' 'Morning' 'Morning' 'Morning'\n",
      " 'Night' 'Night' 'Night' 'Night' 'Night' 'Night' 'Night' 'Night' 'Night'\n",
      " 'Night' 'Night']\n",
      "[0. 0. 0. 0. 0. 0. 0. 0. 0. 0. 0. 1. 1. 1. 1. 1. 1. 1. 1. 1. 1. 1. 2. 2.\n",
      " 2. 2. 2. 2. 2. 2. 2. 2. 2. 3. 3. 3. 3. 3. 3. 3. 3. 3. 3. 3.]\n"
     ]
    }
   ],
   "source": [
    "import numpy as np\n",
    "X = np.load('X.npy')\n",
    "y = np.load('y.npy')\n",
    "from sklearn.preprocessing import LabelEncoder\n",
    "\n",
    "encoded_y = np.array([])\n",
    "print(y)\n",
    "for ele in y:\n",
    "    if(ele == 'Afternoon'):\n",
    "        encoded_y = np.append(encoded_y,0)\n",
    "    if(ele == 'Evening'):\n",
    "        encoded_y = np.append(encoded_y,1)\n",
    "    if(ele == 'Morning'):\n",
    "        encoded_y = np.append(encoded_y,2)\n",
    "    if(ele == 'Night'):\n",
    "        encoded_y = np.append(encoded_y,3) \n",
    "print(encoded_y)"
   ]
  },
  {
   "cell_type": "code",
   "execution_count": 66,
   "id": "9b288893-6994-4a07-a058-cf2420b3680e",
   "metadata": {},
   "outputs": [
    {
     "name": "stdout",
     "output_type": "stream",
     "text": [
      "(44, 30, 224, 224, 3)\n",
      "[0. 0. 0. 0. 0. 0. 0. 0. 0. 0. 0. 1. 1. 1. 1. 1. 1. 1. 1. 1. 1. 1. 2. 2.\n",
      " 2. 2. 2. 2. 2. 2. 2. 2. 2. 3. 3. 3. 3. 3. 3. 3. 3. 3. 3. 3.]\n",
      "(31, 30, 224, 224, 3)\n",
      "(4, 30, 224, 224, 3)\n",
      "(9, 30, 224, 224, 3)\n"
     ]
    }
   ],
   "source": [
    "##Train - Test Split\n",
    "from sklearn.model_selection import train_test_split\n",
    "\n",
    "print(X.shape)\n",
    "# Split into train and test (80/20)\n",
    "print(encoded_y)\n",
    "X_train, X_test, y_train, y_test = train_test_split(\n",
    "    X, encoded_y, test_size=0.2, stratify=encoded_y, random_state=42\n",
    ")\n",
    "\n",
    "# Optional: Also split training set into training + validation\n",
    "X_train, X_val, y_train, y_val = train_test_split(\n",
    "    X_train, y_train, test_size=0.1, stratify=y_train, random_state=42\n",
    ")\n",
    "print(X_train.shape)\n",
    "print(X_val.shape)\n",
    "print(X_test.shape)\n"
   ]
  },
  {
   "cell_type": "code",
   "execution_count": 67,
   "id": "4131b803-6c20-4e24-83c1-51576a2b2d45",
   "metadata": {},
   "outputs": [
    {
     "name": "stderr",
     "output_type": "stream",
     "text": [
      "C:\\Users\\nebhw\\AppData\\Roaming\\Python\\Python312\\site-packages\\keras\\src\\layers\\convolutional\\base_conv.py:107: UserWarning: Do not pass an `input_shape`/`input_dim` argument to a layer. When using Sequential models, prefer using an `Input(shape)` object as the first layer in the model instead.\n",
      "  super().__init__(activity_regularizer=activity_regularizer, **kwargs)\n"
     ]
    }
   ],
   "source": [
    "import sys\n",
    "sys.path.append('models')\n",
    "import model as model\n",
    "model = model.build_spatiotemporal_cnn(num_classes = 4)"
   ]
  },
  {
   "cell_type": "code",
   "execution_count": 68,
   "id": "15cc953d-ab11-4e89-b492-256d27ebf491",
   "metadata": {},
   "outputs": [
    {
     "name": "stdout",
     "output_type": "stream",
     "text": [
      "Epoch 1/20\n",
      "\u001b[1m16/16\u001b[0m \u001b[32m━━━━━━━━━━━━━━━━━━━━\u001b[0m\u001b[37m\u001b[0m \u001b[1m18s\u001b[0m 950ms/step - accuracy: 0.2559 - loss: 2.7449 - val_accuracy: 0.2500 - val_loss: 1.3863\n",
      "Epoch 2/20\n",
      "\u001b[1m16/16\u001b[0m \u001b[32m━━━━━━━━━━━━━━━━━━━━\u001b[0m\u001b[37m\u001b[0m \u001b[1m15s\u001b[0m 910ms/step - accuracy: 0.2765 - loss: 1.3965 - val_accuracy: 0.2500 - val_loss: 1.3861\n",
      "Epoch 3/20\n",
      "\u001b[1m16/16\u001b[0m \u001b[32m━━━━━━━━━━━━━━━━━━━━\u001b[0m\u001b[37m\u001b[0m \u001b[1m15s\u001b[0m 917ms/step - accuracy: 0.5069 - loss: 1.3828 - val_accuracy: 0.2500 - val_loss: 1.4063\n",
      "Epoch 4/20\n",
      "\u001b[1m16/16\u001b[0m \u001b[32m━━━━━━━━━━━━━━━━━━━━\u001b[0m\u001b[37m\u001b[0m \u001b[1m15s\u001b[0m 917ms/step - accuracy: 0.1868 - loss: 1.4463 - val_accuracy: 0.2500 - val_loss: 1.3880\n",
      "Epoch 5/20\n",
      "\u001b[1m16/16\u001b[0m \u001b[32m━━━━━━━━━━━━━━━━━━━━\u001b[0m\u001b[37m\u001b[0m \u001b[1m15s\u001b[0m 905ms/step - accuracy: 0.3674 - loss: 1.3758 - val_accuracy: 0.2500 - val_loss: 1.3956\n",
      "Epoch 6/20\n",
      "\u001b[1m16/16\u001b[0m \u001b[32m━━━━━━━━━━━━━━━━━━━━\u001b[0m\u001b[37m\u001b[0m \u001b[1m15s\u001b[0m 918ms/step - accuracy: 0.2052 - loss: 1.3969 - val_accuracy: 0.0000e+00 - val_loss: 1.4119\n",
      "Epoch 7/20\n",
      "\u001b[1m16/16\u001b[0m \u001b[32m━━━━━━━━━━━━━━━━━━━━\u001b[0m\u001b[37m\u001b[0m \u001b[1m15s\u001b[0m 908ms/step - accuracy: 0.3497 - loss: 1.2771 - val_accuracy: 0.2500 - val_loss: 1.4449\n",
      "Epoch 8/20\n",
      "\u001b[1m16/16\u001b[0m \u001b[32m━━━━━━━━━━━━━━━━━━━━\u001b[0m\u001b[37m\u001b[0m \u001b[1m15s\u001b[0m 918ms/step - accuracy: 0.3454 - loss: 1.3283 - val_accuracy: 0.2500 - val_loss: 1.4824\n",
      "Epoch 9/20\n",
      "\u001b[1m16/16\u001b[0m \u001b[32m━━━━━━━━━━━━━━━━━━━━\u001b[0m\u001b[37m\u001b[0m \u001b[1m15s\u001b[0m 917ms/step - accuracy: 0.2465 - loss: 1.3229 - val_accuracy: 0.2500 - val_loss: 1.4400\n",
      "Epoch 10/20\n",
      "\u001b[1m16/16\u001b[0m \u001b[32m━━━━━━━━━━━━━━━━━━━━\u001b[0m\u001b[37m\u001b[0m \u001b[1m14s\u001b[0m 895ms/step - accuracy: 0.5783 - loss: 0.9620 - val_accuracy: 0.0000e+00 - val_loss: 1.4625\n",
      "Epoch 11/20\n",
      "\u001b[1m16/16\u001b[0m \u001b[32m━━━━━━━━━━━━━━━━━━━━\u001b[0m\u001b[37m\u001b[0m \u001b[1m15s\u001b[0m 912ms/step - accuracy: 0.5705 - loss: 1.0596 - val_accuracy: 0.0000e+00 - val_loss: 1.5725\n",
      "Epoch 12/20\n",
      "\u001b[1m16/16\u001b[0m \u001b[32m━━━━━━━━━━━━━━━━━━━━\u001b[0m\u001b[37m\u001b[0m \u001b[1m15s\u001b[0m 942ms/step - accuracy: 0.6170 - loss: 0.7617 - val_accuracy: 0.5000 - val_loss: 1.2265\n",
      "Epoch 13/20\n",
      "\u001b[1m16/16\u001b[0m \u001b[32m━━━━━━━━━━━━━━━━━━━━\u001b[0m\u001b[37m\u001b[0m \u001b[1m15s\u001b[0m 909ms/step - accuracy: 0.7712 - loss: 0.5797 - val_accuracy: 0.7500 - val_loss: 0.9181\n",
      "Epoch 14/20\n",
      "\u001b[1m16/16\u001b[0m \u001b[32m━━━━━━━━━━━━━━━━━━━━\u001b[0m\u001b[37m\u001b[0m \u001b[1m15s\u001b[0m 907ms/step - accuracy: 0.9053 - loss: 0.2964 - val_accuracy: 0.5000 - val_loss: 0.9176\n",
      "Epoch 15/20\n",
      "\u001b[1m16/16\u001b[0m \u001b[32m━━━━━━━━━━━━━━━━━━━━\u001b[0m\u001b[37m\u001b[0m \u001b[1m15s\u001b[0m 915ms/step - accuracy: 0.9460 - loss: 0.1576 - val_accuracy: 0.7500 - val_loss: 0.5556\n",
      "Epoch 16/20\n",
      "\u001b[1m16/16\u001b[0m \u001b[32m━━━━━━━━━━━━━━━━━━━━\u001b[0m\u001b[37m\u001b[0m \u001b[1m14s\u001b[0m 901ms/step - accuracy: 0.9942 - loss: 0.2616 - val_accuracy: 1.0000 - val_loss: 0.3179\n",
      "Epoch 17/20\n",
      "\u001b[1m16/16\u001b[0m \u001b[32m━━━━━━━━━━━━━━━━━━━━\u001b[0m\u001b[37m\u001b[0m \u001b[1m15s\u001b[0m 910ms/step - accuracy: 0.9796 - loss: 0.0866 - val_accuracy: 0.7500 - val_loss: 0.2928\n",
      "Epoch 18/20\n",
      "\u001b[1m16/16\u001b[0m \u001b[32m━━━━━━━━━━━━━━━━━━━━\u001b[0m\u001b[37m\u001b[0m \u001b[1m14s\u001b[0m 900ms/step - accuracy: 0.9707 - loss: 0.1367 - val_accuracy: 1.0000 - val_loss: 0.1069\n",
      "Epoch 19/20\n",
      "\u001b[1m16/16\u001b[0m \u001b[32m━━━━━━━━━━━━━━━━━━━━\u001b[0m\u001b[37m\u001b[0m \u001b[1m17s\u001b[0m 1s/step - accuracy: 1.0000 - loss: 0.0480 - val_accuracy: 1.0000 - val_loss: 0.1205\n",
      "Epoch 20/20\n",
      "\u001b[1m16/16\u001b[0m \u001b[32m━━━━━━━━━━━━━━━━━━━━\u001b[0m\u001b[37m\u001b[0m \u001b[1m16s\u001b[0m 1s/step - accuracy: 1.0000 - loss: 0.0477 - val_accuracy: 1.0000 - val_loss: 0.0576\n"
     ]
    },
    {
     "data": {
      "text/plain": [
       "<keras.src.callbacks.history.History at 0x20f565495e0>"
      ]
     },
     "execution_count": 68,
     "metadata": {},
     "output_type": "execute_result"
    }
   ],
   "source": [
    "model.fit(X_train, y_train,\n",
    "          validation_data=(X_val, y_val),\n",
    "          epochs=20, batch_size=2)\n"
   ]
  },
  {
   "cell_type": "code",
   "execution_count": 69,
   "id": "d8600c0c-816e-4ce4-a784-4b56dae3411e",
   "metadata": {},
   "outputs": [
    {
     "name": "stderr",
     "output_type": "stream",
     "text": [
      "WARNING:absl:You are saving your model as an HDF5 file via `model.save()` or `keras.saving.save_model(model)`. This file format is considered legacy. We recommend using instead the native Keras format, e.g. `model.save('my_model.keras')` or `keras.saving.save_model(model, 'my_model.keras')`. \n"
     ]
    }
   ],
   "source": [
    "model.save(\"my_sign_model.h5\")  # .h5 format"
   ]
  },
  {
   "cell_type": "code",
   "execution_count": 70,
   "id": "27ce4317-b3f9-4577-b9fd-0b66e5749068",
   "metadata": {},
   "outputs": [
    {
     "name": "stdout",
     "output_type": "stream",
     "text": [
      "\u001b[1m1/1\u001b[0m \u001b[32m━━━━━━━━━━━━━━━━━━━━\u001b[0m\u001b[37m\u001b[0m \u001b[1m2s\u001b[0m 2s/step\n"
     ]
    }
   ],
   "source": [
    "y_pred_probs = model.predict(X_test)\n",
    "y_pred = y_pred_probs.argmax(axis=1)  # convert from one-hot or probabilities to class index\n"
   ]
  },
  {
   "cell_type": "code",
   "execution_count": 71,
   "id": "0fb47aed-0d0b-4eb1-a4ac-0a99964e6baf",
   "metadata": {},
   "outputs": [
    {
     "name": "stdout",
     "output_type": "stream",
     "text": [
      "              precision    recall  f1-score   support\n",
      "\n",
      "         0.0     1.0000    1.0000    1.0000         2\n",
      "         1.0     1.0000    1.0000    1.0000         2\n",
      "         2.0     1.0000    1.0000    1.0000         3\n",
      "         3.0     1.0000    1.0000    1.0000         2\n",
      "\n",
      "    accuracy                         1.0000         9\n",
      "   macro avg     1.0000    1.0000    1.0000         9\n",
      "weighted avg     1.0000    1.0000    1.0000         9\n",
      "\n"
     ]
    }
   ],
   "source": [
    "from sklearn.metrics import classification_report\n",
    "\n",
    "print(classification_report(y_test, y_pred, digits=4))\n"
   ]
  },
  {
   "cell_type": "code",
   "execution_count": 72,
   "id": "3e2dc1c7-1b27-4eae-b4d6-112251d8dedd",
   "metadata": {},
   "outputs": [
    {
     "data": {
      "image/png": "[encoded data removed]",
      "text/plain": [
       "<Figure size 640x480 with 2 Axes>"
      ]
     },
     "metadata": {},
     "output_type": "display_data"
    }
   ],
   "source": [
    "from sklearn.metrics import confusion_matrix\n",
    "import seaborn as sns\n",
    "import matplotlib.pyplot as plt\n",
    "\n",
    "cm = confusion_matrix(y_test, y_pred)\n",
    "sns.heatmap(cm, annot=True, fmt='d', cmap='Blues')\n",
    "plt.xlabel('Predicted')\n",
    "plt.ylabel('True')\n",
    "plt.title('Confusion Matrix')\n",
    "plt.show()\n"
   ]
  },
  {
   "cell_type": "code",
   "execution_count": 73,
   "id": "c57b026a-7f38-47b3-8f32-2b7efa8c99b5",
   "metadata": {},
   "outputs": [
    {
     "data": {
      "text/plain": [
       "<sklearn.metrics._plot.confusion_matrix.ConfusionMatrixDisplay at 0x20f567dd7c0>"
      ]
     },
     "execution_count": 73,
     "metadata": {},
     "output_type": "execute_result"
    },
    {
     "data": {
      "image/png": "[encoded data removed]",
      "text/plain": [
       "<Figure size 640x480 with 2 Axes>"
      ]
     },
     "metadata": {},
     "output_type": "display_data"
    }
   ],
   "source": [
    "from sklearn.metrics import ConfusionMatrixDisplay\n",
    "\n",
    "class_names = ['Afternoon', 'Evening', 'Morning', 'Night']\n",
    "disp = ConfusionMatrixDisplay(confusion_matrix=cm, display_labels=class_names)\n",
    "disp.plot(cmap='Blues')"
   ]
  },
  {
   "cell_type": "code",
   "execution_count": 74,
   "id": "d7b576f3-d7e7-4eb2-b894-700ccc43c8a4",
   "metadata": {},
   "outputs": [
    {
     "name": "stdout",
     "output_type": "stream",
     "text": [
      "              precision    recall  f1-score   support\n",
      "\n",
      "   Afternoon       1.00      1.00      1.00         2\n",
      "     Evening       1.00      1.00      1.00         2\n",
      "     Morning       1.00      1.00      1.00         3\n",
      "       Night       1.00      1.00      1.00         2\n",
      "\n",
      "    accuracy                           1.00         9\n",
      "   macro avg       1.00      1.00      1.00         9\n",
      "weighted avg       1.00      1.00      1.00         9\n",
      "\n"
     ]
    }
   ],
   "source": [
    "report = classification_report(y_test, y_pred, target_names=class_names)\n",
    "print(report)"
   ]
  },
  {
   "cell_type": "code",
   "execution_count": null,
   "id": "21aded0e-4746-40bf-aaa7-226b7205971b",
   "metadata": {},
   "outputs": [],
   "source": []
  }
 ],
 "metadata": {
  "kernelspec": {
   "display_name": "Python 3 (ipykernel)",
   "language": "python",
   "name": "python3"
  },
  "language_info": {
   "codemirror_mode": {
    "name": "ipython",
    "version": 3
   },
   "file_extension": ".py",
   "mimetype": "text/x-python",
   "name": "python",
   "nbconvert_exporter": "python",
   "pygments_lexer": "ipython3",
   "version": "3.12.6"
  }
 },
 "nbformat": 4,
 "nbformat_minor": 5
}
